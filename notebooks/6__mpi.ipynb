{
 "cells": [
  {
   "cell_type": "code",
   "execution_count": null,
   "id": "a02e7979-5794-470b-b4ea-5e1e6cf3ce73",
   "metadata": {},
   "outputs": [],
   "source": [
    "! source /global/common/software/trn018/init-training-pyhpc-2025.sh"
   ]
  },
  {
   "cell_type": "code",
   "execution_count": null,
   "id": "1602a03f-6031-4c3c-ae7f-ce2d2d33980d",
   "metadata": {},
   "outputs": [],
   "source": [
    "!unset SLURM_NTASKS_PER_NODE"
   ]
  },
  {
   "cell_type": "code",
   "execution_count": null,
   "id": "32b1f077-779c-432d-b807-98f5646fd9f4",
   "metadata": {},
   "outputs": [],
   "source": [
    "%%writefile hello_world.py\n",
    "\n",
    "from mpi4py import MPI\n",
    "\n",
    "print(\"Hello World!\")"
   ]
  },
  {
   "cell_type": "code",
   "execution_count": null,
   "id": "11291ac1-088b-4c97-b32c-9dee22f0e1d1",
   "metadata": {},
   "outputs": [],
   "source": [
    "!srun -n 2 -c 2 python hello_world.py"
   ]
  },
  {
   "cell_type": "code",
   "execution_count": null,
   "id": "ca7a23c9-9bbf-489b-b697-a10b9e24ebc0",
   "metadata": {},
   "outputs": [],
   "source": [
    "!srun -n 8 -c 8 python hello_world.py"
   ]
  },
  {
   "cell_type": "code",
   "execution_count": null,
   "id": "06e5d0d5-797f-40b1-a69d-365126f2ea67",
   "metadata": {},
   "outputs": [],
   "source": []
  }
 ],
 "metadata": {
  "kernelspec": {
   "display_name": "NERSC Python",
   "language": "python",
   "name": "python3"
  },
  "language_info": {
   "codemirror_mode": {
    "name": "ipython",
    "version": 3
   },
   "file_extension": ".py",
   "mimetype": "text/x-python",
   "name": "python",
   "nbconvert_exporter": "python",
   "pygments_lexer": "ipython3",
   "version": "3.11.7"
  }
 },
 "nbformat": 4,
 "nbformat_minor": 5
}
