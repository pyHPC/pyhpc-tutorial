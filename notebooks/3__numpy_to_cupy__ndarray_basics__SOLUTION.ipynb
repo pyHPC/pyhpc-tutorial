{
  "cells": [
    {
      "cell_type": "markdown",
      "id": "d2e341ff-0c1e-40e8-8c33-9e3039de8013",
      "metadata": {
        "id": "d2e341ff-0c1e-40e8-8c33-9e3039de8013"
      },
      "source": [
        "# Exercise - NumPy to CuPy - `ndarray` Basics\n",
        "\n",
        "Let's revisit our first NumPy exercise and try porting it to CuPy."
      ]
    },
    {
      "cell_type": "code",
      "execution_count": 15,
      "id": "cc4596d8-d9ff-4c66-8822-246c0fc830c7",
      "metadata": {
        "id": "cc4596d8-d9ff-4c66-8822-246c0fc830c7"
      },
      "outputs": [],
      "source": [
        "import numpy as np\n",
        "import cupy as cp\n",
        "\n",
        "xp = cp"
      ]
    },
    {
      "cell_type": "markdown",
      "id": "7535d7ab-1dd8-407a-bd30-7422e8391fc7",
      "metadata": {
        "id": "7535d7ab-1dd8-407a-bd30-7422e8391fc7"
      },
      "source": [
        "Create the input data array with the numbers `1` to `500_000_000`."
      ]
    },
    {
      "cell_type": "code",
      "execution_count": 16,
      "id": "5f1a613f-bc87-4950-b195-a66bb5bc05d3",
      "metadata": {
        "id": "5f1a613f-bc87-4950-b195-a66bb5bc05d3",
        "outputId": "3dd831b0-d717-4a7a-9d89-f084e1690603",
        "colab": {
          "base_uri": "https://localhost:8080/"
        }
      },
      "outputs": [
        {
          "output_type": "execute_result",
          "data": {
            "text/plain": [
              "array([        1,         2,         3, ..., 499999998, 499999999,\n",
              "       500000000])"
            ]
          },
          "metadata": {},
          "execution_count": 16
        }
      ],
      "source": [
        "arr = xp.arange(1, 500_000_001)\n",
        "arr"
      ]
    },
    {
      "cell_type": "markdown",
      "id": "9b2a320b-b202-4d62-88de-981130756987",
      "metadata": {
        "id": "9b2a320b-b202-4d62-88de-981130756987"
      },
      "source": [
        "Calculate how large the array is in GB with `nbytes`."
      ]
    },
    {
      "cell_type": "code",
      "execution_count": 17,
      "id": "50530f2c-29bf-4061-8f84-bc5be00a5622",
      "metadata": {
        "id": "50530f2c-29bf-4061-8f84-bc5be00a5622",
        "outputId": "924e23c3-cd0a-4490-bb50-68ffd8c219f6",
        "colab": {
          "base_uri": "https://localhost:8080/"
        }
      },
      "outputs": [
        {
          "output_type": "execute_result",
          "data": {
            "text/plain": [
              "4.0"
            ]
          },
          "metadata": {},
          "execution_count": 17
        }
      ],
      "source": [
        "arr.nbytes / 1e9"
      ]
    },
    {
      "cell_type": "markdown",
      "id": "8dfdc34c-f616-491f-a0c6-8add195412f8",
      "metadata": {
        "id": "8dfdc34c-f616-491f-a0c6-8add195412f8"
      },
      "source": [
        "How many dimensions does the array have?"
      ]
    },
    {
      "cell_type": "code",
      "execution_count": 18,
      "id": "ffc15dad-e2fd-4b96-8b39-3496519d0656",
      "metadata": {
        "id": "ffc15dad-e2fd-4b96-8b39-3496519d0656",
        "outputId": "89c2fe88-5e92-49aa-914b-964798807755",
        "colab": {
          "base_uri": "https://localhost:8080/"
        }
      },
      "outputs": [
        {
          "output_type": "execute_result",
          "data": {
            "text/plain": [
              "1"
            ]
          },
          "metadata": {},
          "execution_count": 18
        }
      ],
      "source": [
        "arr.ndim # `len(arr.shape)` also works, but is longer to type."
      ]
    },
    {
      "cell_type": "markdown",
      "id": "ee24ecbe-2b39-43ea-9319-cdfa08f52fb1",
      "metadata": {
        "id": "ee24ecbe-2b39-43ea-9319-cdfa08f52fb1"
      },
      "source": [
        "How many elements does the array have?"
      ]
    },
    {
      "cell_type": "code",
      "execution_count": 19,
      "id": "b15cdf25-eb35-4926-b306-90ffd62b3d28",
      "metadata": {
        "id": "b15cdf25-eb35-4926-b306-90ffd62b3d28",
        "outputId": "d5e659b7-a8d4-487c-ba54-2a00dff50a93",
        "colab": {
          "base_uri": "https://localhost:8080/"
        }
      },
      "outputs": [
        {
          "output_type": "execute_result",
          "data": {
            "text/plain": [
              "500000000"
            ]
          },
          "metadata": {},
          "execution_count": 19
        }
      ],
      "source": [
        "arr.size # For 1D array, `arr.shape[0]` also works, but `arr.size` multiplies the size of all dimensions."
      ]
    },
    {
      "cell_type": "markdown",
      "id": "c6cb7de1-20ef-4edf-a4b1-3abe40e83ab8",
      "metadata": {
        "id": "c6cb7de1-20ef-4edf-a4b1-3abe40e83ab8"
      },
      "source": [
        "What is the shape of the array?"
      ]
    },
    {
      "cell_type": "code",
      "execution_count": 20,
      "id": "63887722-c9d7-405e-a019-e75646115541",
      "metadata": {
        "id": "63887722-c9d7-405e-a019-e75646115541",
        "outputId": "0279385a-1b5d-4f2a-d40e-2a00f9ad7969",
        "colab": {
          "base_uri": "https://localhost:8080/"
        }
      },
      "outputs": [
        {
          "output_type": "execute_result",
          "data": {
            "text/plain": [
              "(500000000,)"
            ]
          },
          "metadata": {},
          "execution_count": 20
        }
      ],
      "source": [
        "arr.shape"
      ]
    },
    {
      "cell_type": "markdown",
      "id": "35f4e58d-9cbe-4e71-8b65-42f9460531e3",
      "metadata": {
        "id": "35f4e58d-9cbe-4e71-8b65-42f9460531e3"
      },
      "source": [
        "Create a new array with `5_000_000` elements containing equally spaced values between `0` to `1000` (inclusive)."
      ]
    },
    {
      "cell_type": "code",
      "execution_count": 21,
      "id": "1527b4f6-5d75-47d4-97e0-d0e78bbc59f9",
      "metadata": {
        "id": "1527b4f6-5d75-47d4-97e0-d0e78bbc59f9",
        "outputId": "ebeb93a0-6f73-4621-f342-4b23f5f87294",
        "colab": {
          "base_uri": "https://localhost:8080/"
        }
      },
      "outputs": [
        {
          "output_type": "execute_result",
          "data": {
            "text/plain": [
              "array([0.0000000e+00, 2.0000004e-04, 4.0000008e-04, ..., 9.9999960e+02,\n",
              "       9.9999980e+02, 1.0000000e+03])"
            ]
          },
          "metadata": {},
          "execution_count": 21
        }
      ],
      "source": [
        "arr = xp.linspace(0, 1000, 5_000_000, endpoint=True)\n",
        "arr"
      ]
    },
    {
      "cell_type": "markdown",
      "id": "1e0b80a2-4bb0-40a0-82e6-366a47f26b43",
      "metadata": {
        "id": "1e0b80a2-4bb0-40a0-82e6-366a47f26b43"
      },
      "source": [
        "Create a random array that is `10_000` by `5_000`."
      ]
    },
    {
      "cell_type": "code",
      "execution_count": 22,
      "id": "2f51aa2e-b994-4a91-aed6-4a4632eb7050",
      "metadata": {
        "id": "2f51aa2e-b994-4a91-aed6-4a4632eb7050",
        "outputId": "d43d8e83-f2c8-4205-eb6a-dc2df2ade3e4",
        "colab": {
          "base_uri": "https://localhost:8080/"
        }
      },
      "outputs": [
        {
          "output_type": "execute_result",
          "data": {
            "text/plain": [
              "array([[0.30388162, 0.15822512, 0.00286212, ..., 0.61119194, 0.24825195,\n",
              "        0.21273523],\n",
              "       [0.34926561, 0.6586961 , 0.88773327, ..., 0.13818685, 0.43676093,\n",
              "        0.81181609],\n",
              "       [0.72333416, 0.86124634, 0.59755301, ..., 0.23371152, 0.28002043,\n",
              "        0.69306837],\n",
              "       ...,\n",
              "       [0.92018622, 0.54895313, 0.01193115, ..., 0.98508866, 0.50779427,\n",
              "        0.48790585],\n",
              "       [0.48466694, 0.86603534, 0.45511161, ..., 0.10740881, 0.48809623,\n",
              "        0.36465386],\n",
              "       [0.57836419, 0.65872789, 0.46128811, ..., 0.44591221, 0.28785918,\n",
              "        0.55808207]])"
            ]
          },
          "metadata": {},
          "execution_count": 22
        }
      ],
      "source": [
        "arr = xp.random.rand(10_000, 5_000)\n",
        "arr"
      ]
    },
    {
      "cell_type": "markdown",
      "id": "f8ab4e20-cc42-4335-8a8a-bb695631185a",
      "metadata": {
        "id": "f8ab4e20-cc42-4335-8a8a-bb695631185a"
      },
      "source": [
        "Sort that array."
      ]
    },
    {
      "cell_type": "code",
      "execution_count": 23,
      "id": "4ec06270-6e08-4cce-9385-9dc8b53e95fd",
      "metadata": {
        "id": "4ec06270-6e08-4cce-9385-9dc8b53e95fd",
        "outputId": "cd801d57-f08d-43c8-f2b4-0358c044bdf5",
        "colab": {
          "base_uri": "https://localhost:8080/"
        }
      },
      "outputs": [
        {
          "output_type": "execute_result",
          "data": {
            "text/plain": [
              "array([[7.39767191e-05, 2.96843576e-04, 6.12392604e-04, ...,\n",
              "        9.99809127e-01, 9.99848644e-01, 9.99904338e-01],\n",
              "       [3.36582828e-04, 4.44429575e-04, 1.05085069e-03, ...,\n",
              "        9.99596910e-01, 9.99840365e-01, 9.99869106e-01],\n",
              "       [1.66456844e-04, 3.18810953e-04, 3.64184564e-04, ...,\n",
              "        9.99592186e-01, 9.99746421e-01, 9.99968319e-01],\n",
              "       ...,\n",
              "       [3.82024716e-05, 1.41508506e-04, 1.56391343e-04, ...,\n",
              "        9.99706703e-01, 9.99875133e-01, 9.99977863e-01],\n",
              "       [1.15853027e-04, 4.38459673e-04, 5.02324922e-04, ...,\n",
              "        9.99388580e-01, 9.99629079e-01, 9.99832854e-01],\n",
              "       [5.14081430e-05, 1.49291079e-04, 1.86902801e-04, ...,\n",
              "        9.99762622e-01, 9.99903318e-01, 9.99966381e-01]])"
            ]
          },
          "metadata": {},
          "execution_count": 23
        }
      ],
      "source": [
        "arr = xp.sort(arr)\n",
        "arr"
      ]
    },
    {
      "cell_type": "markdown",
      "source": [
        "Let's benchmark CuPy's sort against NumPy's sort."
      ],
      "metadata": {
        "id": "AxU_hG5M-LKS"
      },
      "id": "AxU_hG5M-LKS"
    },
    {
      "cell_type": "code",
      "source": [
        "arr_np = np.random.rand(10_000, 5_000)\n",
        "\n",
        "%timeit np.sort(arr_np)\n",
        "%timeit cp.sort(arr)"
      ],
      "metadata": {
        "id": "EKwfS_iM9Yps",
        "outputId": "71692c97-b51f-4b41-b1b8-f6307c48fd35",
        "colab": {
          "base_uri": "https://localhost:8080/"
        }
      },
      "id": "EKwfS_iM9Yps",
      "execution_count": 24,
      "outputs": [
        {
          "output_type": "stream",
          "name": "stdout",
          "text": [
            "439 ms ± 41.2 ms per loop (mean ± std. dev. of 7 runs, 1 loop each)\n",
            "137 ms ± 221 µs per loop (mean ± std. dev. of 7 runs, 10 loops each)\n"
          ]
        }
      ]
    },
    {
      "cell_type": "markdown",
      "id": "dc675e4c-66e6-4a9e-8f68-96802c7f96ad",
      "metadata": {
        "id": "dc675e4c-66e6-4a9e-8f68-96802c7f96ad"
      },
      "source": [
        "Reshape the CuPy array to have the last dimension of length `5`."
      ]
    },
    {
      "cell_type": "code",
      "execution_count": 25,
      "id": "cdde560b-5ba6-484c-a601-00b7ef71273d",
      "metadata": {
        "id": "cdde560b-5ba6-484c-a601-00b7ef71273d",
        "outputId": "918e9883-205e-4e05-87ea-edbd0815c716",
        "colab": {
          "base_uri": "https://localhost:8080/"
        }
      },
      "outputs": [
        {
          "output_type": "execute_result",
          "data": {
            "text/plain": [
              "array([[7.39767191e-05, 2.96843576e-04, 6.12392604e-04, 8.04477820e-04,\n",
              "        8.86757439e-04],\n",
              "       [9.81560029e-04, 1.03055077e-03, 1.37487574e-03, 1.44260585e-03,\n",
              "        1.51815177e-03],\n",
              "       [2.08492668e-03, 2.42945307e-03, 2.46300063e-03, 2.80049017e-03,\n",
              "        2.86212441e-03],\n",
              "       ...,\n",
              "       [9.95224845e-01, 9.96613791e-01, 9.97715213e-01, 9.98106364e-01,\n",
              "        9.98446307e-01],\n",
              "       [9.98664727e-01, 9.98694409e-01, 9.98727565e-01, 9.99084565e-01,\n",
              "        9.99629672e-01],\n",
              "       [9.99639734e-01, 9.99688036e-01, 9.99762622e-01, 9.99903318e-01,\n",
              "        9.99966381e-01]])"
            ]
          },
          "metadata": {},
          "execution_count": 25
        }
      ],
      "source": [
        "arr = arr.reshape((-1, 5))\n",
        "# -1 will infer the size of that dimension from the rest. Would also accept: arr.reshape((10_000_000, 5))\n",
        "arr"
      ]
    },
    {
      "cell_type": "markdown",
      "id": "32cf6010-c6d0-45a3-ae7c-1a8a88d0efc0",
      "metadata": {
        "id": "32cf6010-c6d0-45a3-ae7c-1a8a88d0efc0"
      },
      "source": [
        "Find the sum of each row. Rows are axis 0, but the sum is being applied across columns, which are axis 1."
      ]
    },
    {
      "cell_type": "code",
      "execution_count": 26,
      "id": "8e8c9ce0-c2ee-463c-a609-2da7fa0f61ec",
      "metadata": {
        "id": "8e8c9ce0-c2ee-463c-a609-2da7fa0f61ec",
        "outputId": "17d3cc92-0742-4ebd-a4a1-56fdfe87858f",
        "colab": {
          "base_uri": "https://localhost:8080/"
        }
      },
      "outputs": [
        {
          "output_type": "execute_result",
          "data": {
            "text/plain": [
              "array([2.67444816e-03, 6.34774416e-03, 1.26399950e-02, ...,\n",
              "       4.98610652e+00, 4.99480094e+00, 4.99896009e+00])"
            ]
          },
          "metadata": {},
          "execution_count": 26
        }
      ],
      "source": [
        "arr_sum = xp.sum(arr, axis=1) # You could also write `arr.sum(axis=1)`.\n",
        "arr_sum"
      ]
    },
    {
      "cell_type": "markdown",
      "id": "93a890db-ca42-456c-9813-9c22a6f15fd7",
      "metadata": {
        "id": "93a890db-ca42-456c-9813-9c22a6f15fd7"
      },
      "source": [
        "Normalize each row of the original random array by dividing by the sum you just computed using broadcasting."
      ]
    },
    {
      "cell_type": "code",
      "execution_count": 27,
      "id": "31da458f-abdd-4694-9b52-6f7495e9b6cc",
      "metadata": {
        "id": "31da458f-abdd-4694-9b52-6f7495e9b6cc",
        "outputId": "bcc15ca0-c24b-42ce-aec6-6604d69d7168",
        "colab": {
          "base_uri": "https://localhost:8080/"
        }
      },
      "outputs": [
        {
          "output_type": "execute_result",
          "data": {
            "text/plain": [
              "array([[0.02766055, 0.11099246, 0.22897905, 0.30080143, 0.33156651],\n",
              "       [0.15463132, 0.16234913, 0.21659281, 0.22726276, 0.23916398],\n",
              "       [0.1649468 , 0.19220364, 0.19485772, 0.22155786, 0.22643398],\n",
              "       ...,\n",
              "       [0.1995996 , 0.19987816, 0.20009906, 0.20017751, 0.20024568],\n",
              "       [0.19994085, 0.19994679, 0.19995343, 0.2000249 , 0.20013404],\n",
              "       [0.19996954, 0.1999792 , 0.19999412, 0.20002226, 0.20003488]])"
            ]
          },
          "metadata": {},
          "execution_count": 27
        }
      ],
      "source": [
        "arr_normalized = arr / arr_sum[:, xp.newaxis]\n",
        "arr_normalized"
      ]
    },
    {
      "cell_type": "markdown",
      "id": "4525c0ac-dc5c-4255-a104-77fbca22bef4",
      "metadata": {
        "id": "4525c0ac-dc5c-4255-a104-77fbca22bef4"
      },
      "source": [
        "Prove that your normalized array is actually normalized by checking that every row sums to 1.\n",
        "\n",
        "If we try to use `np.testing.assert_allclose` with CuPy arrays, we get an error because CuPy arrays don't implicitly convert to NumPy arrays. We'll learn more about this in the next section."
      ]
    },
    {
      "cell_type": "code",
      "execution_count": 28,
      "id": "d84a0db9-9983-4c25-ae10-7a5b937afb59",
      "metadata": {
        "id": "d84a0db9-9983-4c25-ae10-7a5b937afb59"
      },
      "outputs": [],
      "source": [
        "xp.testing.assert_allclose(xp.sum(arr_normalized, axis=1), 1.0)"
      ]
    }
  ],
  "metadata": {
    "kernelspec": {
      "display_name": "Python 3 (ipykernel)",
      "language": "python",
      "name": "python3"
    },
    "language_info": {
      "codemirror_mode": {
        "name": "ipython",
        "version": 3
      },
      "file_extension": ".py",
      "mimetype": "text/x-python",
      "name": "python",
      "nbconvert_exporter": "python",
      "pygments_lexer": "ipython3",
      "version": "3.12.11"
    },
    "colab": {
      "provenance": [],
      "gpuType": "T4"
    },
    "accelerator": "GPU"
  },
  "nbformat": 4,
  "nbformat_minor": 5
}