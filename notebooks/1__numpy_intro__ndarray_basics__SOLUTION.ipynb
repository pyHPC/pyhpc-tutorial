{
 "cells": [
  {
   "cell_type": "markdown",
   "id": "d2e341ff-0c1e-40e8-8c33-9e3039de8013",
   "metadata": {},
   "source": [
    "# Exercise 1 - NumPy (SOLUTION)\n",
    "\n",
    "Let's practice working with NumPy functions.  You may find NumPy's [reference documentation](https://numpy.org/doc/stable/reference/arrays.html) useful."
   ]
  },
  {
   "cell_type": "code",
   "execution_count": 1,
   "id": "cc4596d8-d9ff-4c66-8822-246c0fc830c7",
   "metadata": {},
   "outputs": [],
   "source": [
    "import numpy as np"
   ]
  },
  {
   "cell_type": "markdown",
   "id": "7535d7ab-1dd8-407a-bd30-7422e8391fc7",
   "metadata": {},
   "source": [
    "**1. Create the input data array with the numbers `1` to `500_000_000`.** "
   ]
  },
  {
   "cell_type": "code",
   "execution_count": 2,
   "id": "5f1a613f-bc87-4950-b195-a66bb5bc05d3",
   "metadata": {},
   "outputs": [
    {
     "data": {
      "text/plain": [
       "array([        1,         2,         3, ..., 499999998, 499999999,\n",
       "       500000000], shape=(500000000,))"
      ]
     },
     "execution_count": 2,
     "metadata": {},
     "output_type": "execute_result"
    }
   ],
   "source": [
    "arr = np.arange(1, 500_000_001)\n",
    "arr"
   ]
  },
  {
   "cell_type": "markdown",
   "id": "9b2a320b-b202-4d62-88de-981130756987",
   "metadata": {},
   "source": [
    "**2. Calculate how large the array is in GB with `nbytes`** _Hint: GB is `1e9`_"
   ]
  },
  {
   "cell_type": "code",
   "execution_count": 3,
   "id": "50530f2c-29bf-4061-8f84-bc5be00a5622",
   "metadata": {},
   "outputs": [
    {
     "data": {
      "text/plain": [
       "4.0"
      ]
     },
     "execution_count": 3,
     "metadata": {},
     "output_type": "execute_result"
    }
   ],
   "source": [
    "arr.nbytes / 1e9"
   ]
  },
  {
   "cell_type": "markdown",
   "id": "8dfdc34c-f616-491f-a0c6-8add195412f8",
   "metadata": {},
   "source": [
    "**3. How many dimensions does the array have?**"
   ]
  },
  {
   "cell_type": "code",
   "execution_count": 4,
   "id": "ffc15dad-e2fd-4b96-8b39-3496519d0656",
   "metadata": {},
   "outputs": [
    {
     "data": {
      "text/plain": [
       "1"
      ]
     },
     "execution_count": 4,
     "metadata": {},
     "output_type": "execute_result"
    }
   ],
   "source": [
    "arr.ndim  # len(arr.shape) also works, but is longer to type"
   ]
  },
  {
   "cell_type": "markdown",
   "id": "ee24ecbe-2b39-43ea-9319-cdfa08f52fb1",
   "metadata": {},
   "source": [
    "**4. How many elements does the array have?**"
   ]
  },
  {
   "cell_type": "code",
   "execution_count": 5,
   "id": "b15cdf25-eb35-4926-b306-90ffd62b3d28",
   "metadata": {},
   "outputs": [
    {
     "data": {
      "text/plain": [
       "500000000"
      ]
     },
     "execution_count": 5,
     "metadata": {},
     "output_type": "execute_result"
    }
   ],
   "source": [
    "arr.size  # for 1D array, arr.shape[0] also works, but arr.size multiplies the size of all dimensions"
   ]
  },
  {
   "cell_type": "markdown",
   "id": "c6cb7de1-20ef-4edf-a4b1-3abe40e83ab8",
   "metadata": {},
   "source": [
    "**5. What is the shape of the array?**"
   ]
  },
  {
   "cell_type": "code",
   "execution_count": 6,
   "id": "63887722-c9d7-405e-a019-e75646115541",
   "metadata": {},
   "outputs": [
    {
     "data": {
      "text/plain": [
       "(500000000,)"
      ]
     },
     "execution_count": 6,
     "metadata": {},
     "output_type": "execute_result"
    }
   ],
   "source": [
    "arr.shape"
   ]
  },
  {
   "cell_type": "markdown",
   "id": "35f4e58d-9cbe-4e71-8b65-42f9460531e3",
   "metadata": {},
   "source": [
    "**6. Create a new array with `5_000_000` elements containing equally spaced values between `0` to `1000` (inclusive).**"
   ]
  },
  {
   "cell_type": "code",
   "execution_count": 7,
   "id": "1527b4f6-5d75-47d4-97e0-d0e78bbc59f9",
   "metadata": {},
   "outputs": [
    {
     "data": {
      "text/plain": [
       "array([0.0000000e+00, 2.0000004e-04, 4.0000008e-04, ..., 9.9999960e+02,\n",
       "       9.9999980e+02, 1.0000000e+03], shape=(5000000,))"
      ]
     },
     "execution_count": 7,
     "metadata": {},
     "output_type": "execute_result"
    }
   ],
   "source": [
    "arr = np.linspace(0, 1000, 5_000_000, endpoint=True)\n",
    "arr"
   ]
  },
  {
   "cell_type": "markdown",
   "id": "1e0b80a2-4bb0-40a0-82e6-366a47f26b43",
   "metadata": {},
   "source": [
    "**7. Create a random array that is `10_000` by `5_000`.**"
   ]
  },
  {
   "cell_type": "code",
   "execution_count": 8,
   "id": "2f51aa2e-b994-4a91-aed6-4a4632eb7050",
   "metadata": {},
   "outputs": [
    {
     "data": {
      "text/plain": [
       "array([[0.17659865, 0.38648474, 0.63742629, ..., 0.86629327, 0.91934898,\n",
       "        0.82434493],\n",
       "       [0.97551894, 0.50853995, 0.55525147, ..., 0.78958867, 0.93456844,\n",
       "        0.95708043],\n",
       "       [0.16804187, 0.85185444, 0.55105745, ..., 0.29746959, 0.85406659,\n",
       "        0.83115339],\n",
       "       ...,\n",
       "       [0.17329175, 0.63280969, 0.92239834, ..., 0.59682226, 0.71442996,\n",
       "        0.36697754],\n",
       "       [0.00230553, 0.90562461, 0.16170203, ..., 0.30949731, 0.36002029,\n",
       "        0.99357106],\n",
       "       [0.04347126, 0.20688976, 0.2916649 , ..., 0.66340966, 0.93985517,\n",
       "        0.66640657]], shape=(10000, 5000))"
      ]
     },
     "execution_count": 8,
     "metadata": {},
     "output_type": "execute_result"
    }
   ],
   "source": [
    "arr = np.random.rand(10_000, 5_000)\n",
    "arr"
   ]
  },
  {
   "cell_type": "markdown",
   "id": "f8ab4e20-cc42-4335-8a8a-bb695631185a",
   "metadata": {},
   "source": [
    "**8. Sort that array.**"
   ]
  },
  {
   "cell_type": "code",
   "execution_count": 9,
   "id": "4ec06270-6e08-4cce-9385-9dc8b53e95fd",
   "metadata": {},
   "outputs": [
    {
     "data": {
      "text/plain": [
       "array([[4.06280759e-05, 8.52379296e-05, 8.65952159e-05, ...,\n",
       "        9.98868260e-01, 9.99672593e-01, 9.99787619e-01],\n",
       "       [1.31693984e-05, 4.21413391e-05, 1.17697952e-04, ...,\n",
       "        9.99787390e-01, 9.99833504e-01, 9.99835725e-01],\n",
       "       [3.93602191e-05, 4.95429678e-05, 3.17867547e-04, ...,\n",
       "        9.99723825e-01, 9.99752935e-01, 9.99768837e-01],\n",
       "       ...,\n",
       "       [1.86931672e-04, 5.58848933e-04, 5.80630871e-04, ...,\n",
       "        9.99242630e-01, 9.99531669e-01, 9.99705199e-01],\n",
       "       [1.16845958e-04, 2.89016878e-04, 6.59209124e-04, ...,\n",
       "        9.99027411e-01, 9.99148800e-01, 9.99232332e-01],\n",
       "       [1.96891537e-04, 4.28666361e-04, 6.92506173e-04, ...,\n",
       "        9.99689969e-01, 9.99725993e-01, 9.99981385e-01]],\n",
       "      shape=(10000, 5000))"
      ]
     },
     "execution_count": 9,
     "metadata": {},
     "output_type": "execute_result"
    }
   ],
   "source": [
    "arr = np.sort(arr)\n",
    "arr"
   ]
  },
  {
   "cell_type": "markdown",
   "id": "dc675e4c-66e6-4a9e-8f68-96802c7f96ad",
   "metadata": {},
   "source": [
    "**9. Reshape the array to have the last dimension of length `5`**"
   ]
  },
  {
   "cell_type": "code",
   "execution_count": 10,
   "id": "cdde560b-5ba6-484c-a601-00b7ef71273d",
   "metadata": {},
   "outputs": [
    {
     "data": {
      "text/plain": [
       "array([[4.06280759e-05, 8.52379296e-05, 8.65952159e-05, 2.34144996e-04,\n",
       "        4.46441980e-04],\n",
       "       [1.13515948e-03, 1.24167905e-03, 1.50160141e-03, 1.50230035e-03,\n",
       "        1.58054283e-03],\n",
       "       [1.72709475e-03, 2.17918485e-03, 2.19080665e-03, 2.40222725e-03,\n",
       "        2.52510764e-03],\n",
       "       ...,\n",
       "       [9.96267828e-01, 9.96329699e-01, 9.96330732e-01, 9.96984723e-01,\n",
       "        9.97255448e-01],\n",
       "       [9.97501828e-01, 9.97884805e-01, 9.98206395e-01, 9.98474393e-01,\n",
       "        9.98821604e-01],\n",
       "       [9.98978774e-01, 9.99538140e-01, 9.99689969e-01, 9.99725993e-01,\n",
       "        9.99981385e-01]], shape=(10000000, 5))"
      ]
     },
     "execution_count": 10,
     "metadata": {},
     "output_type": "execute_result"
    }
   ],
   "source": [
    "arr = arr.reshape((-1, 5))\n",
    "# -1 will infer the size of that dimension from the rest.  Would also accept: arr.reshape((10_000_000, 5))\n",
    "arr"
   ]
  },
  {
   "cell_type": "markdown",
   "id": "32cf6010-c6d0-45a3-ae7c-1a8a88d0efc0",
   "metadata": {},
   "source": [
    "**10. Find the sum of each row (index 0 is the row index)**"
   ]
  },
  {
   "cell_type": "code",
   "execution_count": 17,
   "id": "8e8c9ce0-c2ee-463c-a609-2da7fa0f61ec",
   "metadata": {},
   "outputs": [
    {
     "data": {
      "text/plain": [
       "array([8.93048197e-04, 6.96128312e-03, 1.10244211e-02, ...,\n",
       "       4.98316843e+00, 4.99088903e+00, 4.99791426e+00], shape=(10000000,))"
      ]
     },
     "execution_count": 17,
     "metadata": {},
     "output_type": "execute_result"
    }
   ],
   "source": [
    "arr_sum = np.sum(arr, axis=1)\n",
    "# would also accept arr.sum(axis=1)\n",
    "arr_sum"
   ]
  },
  {
   "cell_type": "markdown",
   "id": "93a890db-ca42-456c-9813-9c22a6f15fd7",
   "metadata": {},
   "source": [
    "**11. Normalize each row of the original random array by dividing by the sum you just computed using broadcasting.**"
   ]
  },
  {
   "cell_type": "code",
   "execution_count": 21,
   "id": "31da458f-abdd-4694-9b52-6f7495e9b6cc",
   "metadata": {},
   "outputs": [
    {
     "data": {
      "text/plain": [
       "array([[0.04549371, 0.09544606, 0.09696589, 0.26218629, 0.49990805],\n",
       "       [0.16306756, 0.17836928, 0.21570756, 0.21580797, 0.22704763],\n",
       "       [0.15666081, 0.19766887, 0.19872305, 0.21790053, 0.22904673],\n",
       "       ...,\n",
       "       [0.19992658, 0.199939  , 0.1999392 , 0.20007044, 0.20012477],\n",
       "       [0.19986456, 0.19994129, 0.20000573, 0.20005943, 0.20012899],\n",
       "       [0.19987913, 0.19999105, 0.20002143, 0.20002864, 0.20007974]],\n",
       "      shape=(10000000, 5))"
      ]
     },
     "execution_count": 21,
     "metadata": {},
     "output_type": "execute_result"
    }
   ],
   "source": [
    "arr_normalized = arr / arr_sum[:,np.newaxis]\n",
    "arr_normalized"
   ]
  },
  {
   "cell_type": "markdown",
   "id": "4525c0ac-dc5c-4255-a104-77fbca22bef4",
   "metadata": {},
   "source": [
    "**Extra credit: Prove that your normalized array is actually normalized.  (Hint: Does each row sum to 1 now?)**"
   ]
  },
  {
   "cell_type": "code",
   "execution_count": null,
   "id": "d84a0db9-9983-4c25-ae10-7a5b937afb59",
   "metadata": {},
   "outputs": [],
   "source": [
    "np.testing.assert_equal(np.sum(arr_normalized, axis=1), 1.0)"
   ]
  },
  {
   "cell_type": "code",
   "execution_count": null,
   "id": "a78fa2de-3cb9-438f-bd8d-7f7771ac1475",
   "metadata": {},
   "outputs": [],
   "source": []
  }
 ],
 "metadata": {
  "kernelspec": {
   "display_name": "Python 3 (ipykernel)",
   "language": "python",
   "name": "python3"
  },
  "language_info": {
   "codemirror_mode": {
    "name": "ipython",
    "version": 3
   },
   "file_extension": ".py",
   "mimetype": "text/x-python",
   "name": "python",
   "nbconvert_exporter": "python",
   "pygments_lexer": "ipython3",
   "version": "3.12.11"
  },
  "colab": {
   "provenance": [],
   "gpuType": "T4"
  },
  "accelerator": "GPU"
 },
 "nbformat": 4,
 "nbformat_minor": 5
}
